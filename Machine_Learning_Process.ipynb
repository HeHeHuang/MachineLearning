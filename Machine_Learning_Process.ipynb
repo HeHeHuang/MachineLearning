{
  "nbformat": 4,
  "nbformat_minor": 0,
  "metadata": {
    "colab": {
      "name": "Machine Learning Process.ipynb",
      "provenance": [],
      "collapsed_sections": [],
      "toc_visible": true,
      "authorship_tag": "ABX9TyNpQdd2fqALOalyXhv2ZL66",
      "include_colab_link": true
    },
    "kernelspec": {
      "name": "python3",
      "display_name": "Python 3"
    },
    "language_info": {
      "name": "python"
    }
  },
  "cells": [
    {
      "cell_type": "markdown",
      "metadata": {
        "id": "view-in-github",
        "colab_type": "text"
      },
      "source": [
        "<a href=\"https://colab.research.google.com/github/HeHeHuang/MachineLearning/blob/main/Machine_Learning_Process.ipynb\" target=\"_parent\"><img src=\"https://colab.research.google.com/assets/colab-badge.svg\" alt=\"Open In Colab\"/></a>"
      ]
    },
    {
      "cell_type": "code",
      "execution_count": null,
      "metadata": {
        "id": "N33fQfVP13v4"
      },
      "outputs": [],
      "source": [
        "#test for git hub "
      ]
    },
    {
      "cell_type": "code",
      "source": [
        ""
      ],
      "metadata": {
        "id": "tbKNoGGD871G"
      },
      "execution_count": null,
      "outputs": []
    },
    {
      "cell_type": "markdown",
      "source": [
        "\n",
        "###Background"
      ],
      "metadata": {
        "id": "CJ538few82Q7"
      }
    },
    {
      "cell_type": "markdown",
      "source": [
        "###Define Problem\n",
        "\n"
      ],
      "metadata": {
        "id": "yYkdHs2j91hK"
      }
    },
    {
      "cell_type": "markdown",
      "source": [
        "\n",
        "\n",
        "###Collect Data & Data Prepration\n",
        "\n",
        "\n",
        "\n",
        "\n",
        "\n",
        "\n"
      ],
      "metadata": {
        "id": "AgvX_Inl91ZY"
      }
    },
    {
      "cell_type": "markdown",
      "source": [
        "####1. Data Visualisation\n",
        "\n"
      ],
      "metadata": {
        "id": "TrZFdDGN-5ki"
      }
    },
    {
      "cell_type": "markdown",
      "source": [
        "####2. Data Cleaning \n",
        "\n",
        "\n",
        " \n",
        " \n",
        " "
      ],
      "metadata": {
        "id": "KuqQ0det-8L-"
      }
    },
    {
      "cell_type": "markdown",
      "source": [
        "\n",
        "####3. Spilt Training Set and Testing Set\n",
        " \n"
      ],
      "metadata": {
        "id": "3cM4_l3d-_XY"
      }
    },
    {
      "cell_type": "markdown",
      "source": [
        "####4. Feature Engineer "
      ],
      "metadata": {
        "id": "rD0eHNEz_A9I"
      }
    },
    {
      "cell_type": "markdown",
      "source": [
        "\n",
        "####5. Generate features & Label Set"
      ],
      "metadata": {
        "id": "g9moVzXL_DCY"
      }
    },
    {
      "cell_type": "code",
      "source": [
        ""
      ],
      "metadata": {
        "id": "cMdCWB7A-4P-"
      },
      "execution_count": null,
      "outputs": []
    },
    {
      "cell_type": "markdown",
      "source": [
        "\n",
        "###Choose Algothem and Create model\n",
        "\n",
        "\n",
        "\n",
        "\n"
      ],
      "metadata": {
        "id": "72xCfmWN91RW"
      }
    },
    {
      "cell_type": "markdown",
      "source": [
        "\n",
        "### Train Model & Evaluate Model "
      ],
      "metadata": {
        "id": "JJeVUm3491JO"
      }
    },
    {
      "cell_type": "markdown",
      "source": [
        "\n",
        "\n",
        "###Use model to do predict\n"
      ],
      "metadata": {
        "id": "DTFLOeUm91BK"
      }
    },
    {
      "cell_type": "markdown",
      "source": [
        "\n",
        "\n",
        "###Summary\n",
        "\n",
        "\n",
        "\n"
      ],
      "metadata": {
        "id": "9VVk-Z-s904U"
      }
    },
    {
      "cell_type": "markdown",
      "source": [
        "\n",
        "###Resource"
      ],
      "metadata": {
        "id": "819_UOwB90uR"
      }
    },
    {
      "cell_type": "markdown",
      "source": [
        "\n",
        "###Other relevant Topic & extend to Learn"
      ],
      "metadata": {
        "id": "exOKuFzP90ki"
      }
    },
    {
      "cell_type": "markdown",
      "source": [
        ""
      ],
      "metadata": {
        "id": "3gA5IJjQ90P6"
      }
    }
  ]
}